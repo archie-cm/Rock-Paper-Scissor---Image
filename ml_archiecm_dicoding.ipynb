{
  "nbformat": 4,
  "nbformat_minor": 0,
  "metadata": {
    "colab": {
      "provenance": [],
      "include_colab_link": true
    },
    "kernelspec": {
      "name": "python3",
      "display_name": "Python 3"
    },
    "language_info": {
      "name": "python"
    },
    "gpuClass": "standard"
  },
  "cells": [
    {
      "cell_type": "markdown",
      "metadata": {
        "id": "view-in-github",
        "colab_type": "text"
      },
      "source": [
        "<a href=\"https://colab.research.google.com/github/archie-cm/Training-Course/blob/main/ml_archiecm_dicoding.ipynb\" target=\"_parent\"><img src=\"https://colab.research.google.com/assets/colab-badge.svg\" alt=\"Open In Colab\"/></a>"
      ]
    },
    {
      "cell_type": "markdown",
      "source": [
        "*   Nama : Archie Citra M\n",
        "*   Email : archiecm22@gmail.com\n",
        "*   Username : archiecm\n",
        "*   Kota domisili : Sragen"
      ],
      "metadata": {
        "id": "78Mer_gXdH4l"
      }
    },
    {
      "cell_type": "markdown",
      "metadata": {
        "id": "Wy6KdzbY1T_M"
      },
      "source": [
        "# Import Libraries"
      ]
    },
    {
      "cell_type": "code",
      "metadata": {
        "id": "COdnyc1TzuXj",
        "colab": {
          "base_uri": "https://localhost:8080/"
        },
        "outputId": "12ec5586-2aea-490b-ab52-1faa0055fda3"
      },
      "source": [
        "from io import BytesIO\n",
        "from IPython.display import Image as IMG\n",
        "from google.colab import files\n",
        "from keras.preprocessing import image\n",
        "from shutil import copyfile\n",
        "from sklearn.metrics import classification_report, confusion_matrix\n",
        "from tensorflow.keras.applications.inception_v3 import InceptionV3\n",
        "from tensorflow.keras.preprocessing.image import ImageDataGenerator\n",
        "from tensorflow.keras.optimizers import RMSprop\n",
        "from urllib.request import urlopen\n",
        "import seaborn as sns\n",
        "import matplotlib.image as mpimg\n",
        "import matplotlib.pyplot as plt\n",
        "import numpy as np\n",
        "import pandas as pd\n",
        "import random\n",
        "import tensorflow as tf\n",
        "import zipfile, os\n",
        "import warnings\n",
        "warnings.filterwarnings(\"ignore\")\n",
        "\n",
        "!pip install ipython-autotime\n",
        "%load_ext autotime"
      ],
      "execution_count": null,
      "outputs": [
        {
          "output_type": "stream",
          "name": "stdout",
          "text": [
            "Looking in indexes: https://pypi.org/simple, https://us-python.pkg.dev/colab-wheels/public/simple/\n",
            "Collecting ipython-autotime\n",
            "  Downloading ipython_autotime-0.3.1-py2.py3-none-any.whl (6.8 kB)\n",
            "Requirement already satisfied: ipython in /usr/local/lib/python3.7/dist-packages (from ipython-autotime) (7.9.0)\n",
            "Requirement already satisfied: pygments in /usr/local/lib/python3.7/dist-packages (from ipython->ipython-autotime) (2.6.1)\n",
            "Requirement already satisfied: traitlets>=4.2 in /usr/local/lib/python3.7/dist-packages (from ipython->ipython-autotime) (5.1.1)\n",
            "Collecting jedi>=0.10\n",
            "  Downloading jedi-0.18.1-py2.py3-none-any.whl (1.6 MB)\n",
            "\u001b[K     |████████████████████████████████| 1.6 MB 4.0 MB/s \n",
            "\u001b[?25hRequirement already satisfied: pexpect in /usr/local/lib/python3.7/dist-packages (from ipython->ipython-autotime) (4.8.0)\n",
            "Requirement already satisfied: decorator in /usr/local/lib/python3.7/dist-packages (from ipython->ipython-autotime) (4.4.2)\n",
            "Requirement already satisfied: backcall in /usr/local/lib/python3.7/dist-packages (from ipython->ipython-autotime) (0.2.0)\n",
            "Requirement already satisfied: setuptools>=18.5 in /usr/local/lib/python3.7/dist-packages (from ipython->ipython-autotime) (57.4.0)\n",
            "Requirement already satisfied: pickleshare in /usr/local/lib/python3.7/dist-packages (from ipython->ipython-autotime) (0.7.5)\n",
            "Requirement already satisfied: prompt-toolkit<2.1.0,>=2.0.0 in /usr/local/lib/python3.7/dist-packages (from ipython->ipython-autotime) (2.0.10)\n",
            "Requirement already satisfied: parso<0.9.0,>=0.8.0 in /usr/local/lib/python3.7/dist-packages (from jedi>=0.10->ipython->ipython-autotime) (0.8.3)\n",
            "Requirement already satisfied: six>=1.9.0 in /usr/local/lib/python3.7/dist-packages (from prompt-toolkit<2.1.0,>=2.0.0->ipython->ipython-autotime) (1.15.0)\n",
            "Requirement already satisfied: wcwidth in /usr/local/lib/python3.7/dist-packages (from prompt-toolkit<2.1.0,>=2.0.0->ipython->ipython-autotime) (0.2.5)\n",
            "Requirement already satisfied: ptyprocess>=0.5 in /usr/local/lib/python3.7/dist-packages (from pexpect->ipython->ipython-autotime) (0.7.0)\n",
            "Installing collected packages: jedi, ipython-autotime\n",
            "Successfully installed ipython-autotime-0.3.1 jedi-0.18.1\n",
            "time: 554 µs (started: 2022-09-02 11:44:29 +00:00)\n"
          ]
        }
      ]
    },
    {
      "cell_type": "markdown",
      "metadata": {
        "id": "VNh8RrdG1f-X"
      },
      "source": [
        "# Download Data\n",
        "\n",
        "Download data from [this link](https://dicodingacademy.blob.core.windows.net/picodiploma/ml_pemula_academy/rockpaperscissors.zip)"
      ]
    },
    {
      "cell_type": "code",
      "metadata": {
        "colab": {
          "base_uri": "https://localhost:8080/"
        },
        "id": "fA440RIYOulZ",
        "outputId": "e5fab3d0-493d-49bf-aa1a-893308a54653"
      },
      "source": [
        "!wget --no-check-certificate \\\n",
        "  https://dicodingacademy.blob.core.windows.net/picodiploma/ml_pemula_academy/rockpaperscissors.zip \\\n",
        "  -O /tmp/rockpaperscissors.zip"
      ],
      "execution_count": null,
      "outputs": [
        {
          "output_type": "stream",
          "name": "stdout",
          "text": [
            "--2022-09-02 11:44:29--  https://dicodingacademy.blob.core.windows.net/picodiploma/ml_pemula_academy/rockpaperscissors.zip\n",
            "Resolving dicodingacademy.blob.core.windows.net (dicodingacademy.blob.core.windows.net)... 52.239.197.36\n",
            "Connecting to dicodingacademy.blob.core.windows.net (dicodingacademy.blob.core.windows.net)|52.239.197.36|:443... connected.\n",
            "HTTP request sent, awaiting response... 404 The specified resource does not exist.\n",
            "2022-09-02 11:44:30 ERROR 404: The specified resource does not exist..\n",
            "\n",
            "time: 432 ms (started: 2022-09-02 11:44:29 +00:00)\n"
          ]
        }
      ]
    },
    {
      "cell_type": "markdown",
      "metadata": {
        "id": "UxrZOMsp1mj_"
      },
      "source": [
        "# Extraxt Data\n",
        "\n",
        "Extraxt and save data locally in /tmp folder"
      ]
    },
    {
      "cell_type": "code",
      "source": [
        "from google.colab import drive\n",
        "drive.mount('/content/drive')"
      ],
      "metadata": {
        "colab": {
          "base_uri": "https://localhost:8080/"
        },
        "id": "u1X3oIHVq41k",
        "outputId": "f0ce7cbe-acd7-4459-ec2e-ba785c7edfa7"
      },
      "execution_count": null,
      "outputs": [
        {
          "output_type": "stream",
          "name": "stdout",
          "text": [
            "Mounted at /content/drive\n",
            "time: 24.6 s (started: 2022-09-02 11:44:30 +00:00)\n"
          ]
        }
      ]
    },
    {
      "cell_type": "code",
      "metadata": {
        "id": "zHXaL4ZeO-Pg",
        "colab": {
          "base_uri": "https://localhost:8080/"
        },
        "outputId": "cdce588e-68e0-478f-bdba-044bc368d236"
      },
      "source": [
        "local_zip = '/content/drive/MyDrive/rockpaperscissors.zip'\n",
        "zip_ref = zipfile.ZipFile(local_zip, 'r')\n",
        "zip_ref.extractall('/tmp')\n",
        "zip_ref.close()"
      ],
      "execution_count": null,
      "outputs": [
        {
          "output_type": "stream",
          "name": "stdout",
          "text": [
            "time: 8.73 s (started: 2022-09-02 11:44:54 +00:00)\n"
          ]
        }
      ]
    },
    {
      "cell_type": "markdown",
      "metadata": {
        "id": "-L4Whyfx2C47"
      },
      "source": [
        "# Inspect the Data"
      ]
    },
    {
      "cell_type": "code",
      "metadata": {
        "colab": {
          "base_uri": "https://localhost:8080/"
        },
        "id": "vnTFnFATRhBe",
        "outputId": "47b77373-6d97-4c2a-f3ea-4393f923f064"
      },
      "source": [
        "print('Number of Rock images: ', len(os.listdir('/tmp/rockpaperscissors/rock/')))\n",
        "print('Number of Paper images: ', len(os.listdir('/tmp/rockpaperscissors/paper/')))\n",
        "print('Number of Scissors images: ', len(os.listdir('/tmp/rockpaperscissors/scissors/')))"
      ],
      "execution_count": null,
      "outputs": [
        {
          "output_type": "stream",
          "name": "stdout",
          "text": [
            "Number of Rock images:  726\n",
            "Number of Paper images:  712\n",
            "Number of Scissors images:  750\n",
            "time: 9.51 ms (started: 2022-09-02 11:45:03 +00:00)\n"
          ]
        }
      ]
    },
    {
      "cell_type": "markdown",
      "metadata": {
        "id": "L5r6Hc3Z2JEl"
      },
      "source": [
        "# Try Making Some Folders for Modelling"
      ]
    },
    {
      "cell_type": "code",
      "metadata": {
        "id": "67wiAXRpRzAZ",
        "colab": {
          "base_uri": "https://localhost:8080/"
        },
        "outputId": "85e7bab6-d300-4efd-9027-3543e3102f74"
      },
      "source": [
        "try:\n",
        "  os.mkdir('/tmp/rockpaperscissors/training')\n",
        "  os.mkdir('/tmp/rockpaperscissors/training/rock')\n",
        "  os.mkdir('/tmp/rockpaperscissors/training/paper')\n",
        "  os.mkdir('/tmp/rockpaperscissors/training/scissors')\n",
        "  os.mkdir('/tmp/rockpaperscissors/testing')\n",
        "  os.mkdir('/tmp/rockpaperscissors/testing/rock')\n",
        "  os.mkdir('/tmp/rockpaperscissors/testing/paper')\n",
        "  os.mkdir('/tmp/rockpaperscissors/testing/scissors')\n",
        "except OSError:\n",
        "  pass"
      ],
      "execution_count": null,
      "outputs": [
        {
          "output_type": "stream",
          "name": "stdout",
          "text": [
            "time: 11.4 ms (started: 2022-09-02 11:45:03 +00:00)\n"
          ]
        }
      ]
    },
    {
      "cell_type": "markdown",
      "metadata": {
        "id": "xyB-u39Z2Pc4"
      },
      "source": [
        "# Split Data"
      ]
    },
    {
      "cell_type": "code",
      "metadata": {
        "id": "iZzSwKujTB7R",
        "colab": {
          "base_uri": "https://localhost:8080/"
        },
        "outputId": "3a4492b4-3b41-4b09-ed00-49284213cb13"
      },
      "source": [
        "def split_data(images_path, training_path, testing_path, split_size):\n",
        "    files = []\n",
        "    for filename in os.listdir(images_path):\n",
        "        file = images_path + filename\n",
        "        if os.path.getsize(file) > 0:\n",
        "            files.append(filename)\n",
        "        else:\n",
        "            print(filename + \" others\")\n",
        "\n",
        "    training_length = int(len(files) * split_size)\n",
        "    testing_length = int(len(files) - training_length)\n",
        "    shuffled_set = random.sample(files, len(files))\n",
        "    training_set = shuffled_set[0:training_length]\n",
        "    testing_set = shuffled_set[training_length:]\n",
        "\n",
        "    for filename in training_set:\n",
        "        this_file = images_path + filename\n",
        "        destination = training_path + filename\n",
        "        copyfile(this_file, destination)\n",
        "\n",
        "    for filename in testing_set:\n",
        "        this_file = images_path + filename\n",
        "        destination = testing_path + filename\n",
        "        copyfile(this_file, destination)\n",
        "\n",
        "rock_images_path = \"/tmp/rockpaperscissors/rock/\"\n",
        "rock_train_path = \"/tmp/rockpaperscissors/training/rock/\"\n",
        "rock_test_path = \"/tmp/rockpaperscissors/testing/rock/\"\n",
        "\n",
        "paper_images_path = \"/tmp/rockpaperscissors/paper/\"\n",
        "paper_train_path = \"/tmp/rockpaperscissors/training/paper/\"\n",
        "paper_test_path = \"/tmp/rockpaperscissors/testing/paper/\"\n",
        "\n",
        "scissors_images_path = \"/tmp/rockpaperscissors/scissors/\"\n",
        "scissors_train_path = \"/tmp/rockpaperscissors/training/scissors/\"\n",
        "scissors_test_path = \"/tmp/rockpaperscissors/testing/scissors/\"\n",
        "\n",
        "split_size = 0.6 # 60% Data Training and 40% Data Validation\n",
        "split_data(rock_images_path, rock_train_path, rock_test_path, split_size)\n",
        "split_data(paper_images_path, paper_train_path, paper_test_path, split_size)\n",
        "split_data(scissors_images_path, scissors_train_path, scissors_test_path, split_size)"
      ],
      "execution_count": null,
      "outputs": [
        {
          "output_type": "stream",
          "name": "stdout",
          "text": [
            "time: 1.03 s (started: 2022-09-02 11:45:03 +00:00)\n"
          ]
        }
      ]
    },
    {
      "cell_type": "markdown",
      "metadata": {
        "id": "vMySQshW3g2Z"
      },
      "source": [
        "# Inspect the Size of Training and Validation Data"
      ]
    },
    {
      "cell_type": "code",
      "metadata": {
        "colab": {
          "base_uri": "https://localhost:8080/"
        },
        "id": "10lc6u_b26rG",
        "outputId": "d6fa6ee6-6ad9-4d60-d3b8-b086315e306a"
      },
      "source": [
        "total_train = len(os.listdir(rock_train_path)) + len(os.listdir(paper_train_path)) + len(os.listdir(scissors_train_path))\n",
        "total_test = len(os.listdir(rock_test_path)) + len(os.listdir(paper_test_path)) + len(os.listdir(scissors_test_path))\n",
        "\n",
        "print(\"We have a total training data of \" + str(total_train) + \" rows and validation data of \" + str(total_test))"
      ],
      "execution_count": null,
      "outputs": [
        {
          "output_type": "stream",
          "name": "stdout",
          "text": [
            "We have a total training data of 1312 rows and validation data of 876\n",
            "time: 6.31 ms (started: 2022-09-02 11:45:04 +00:00)\n"
          ]
        }
      ]
    },
    {
      "cell_type": "markdown",
      "metadata": {
        "id": "wVxj5Hms4rs1"
      },
      "source": [
        "# Implement the Image Augmentation"
      ]
    },
    {
      "cell_type": "code",
      "metadata": {
        "colab": {
          "base_uri": "https://localhost:8080/"
        },
        "id": "wg1RQcNZUvCW",
        "outputId": "771da2a8-b8b3-4b2d-94de-a32a1d46cc58"
      },
      "source": [
        "TRAINING_DIR = '/tmp/rockpaperscissors/training/'\n",
        "train_datagen = ImageDataGenerator(\n",
        "    rescale = 1./255,\n",
        "    rotation_range = 30,\n",
        "    width_shift_range = 0.1,\n",
        "    height_shift_range = 0.2,\n",
        "    shear_range = 0.2,\n",
        "    zoom_range = 0.2,\n",
        "    horizontal_flip = True,\n",
        "    fill_mode = 'nearest'\n",
        ") \n",
        "\n",
        "train_generator = train_datagen.flow_from_directory(\n",
        "    TRAINING_DIR, \n",
        "    batch_size = 128,\n",
        "    class_mode = 'categorical',\n",
        "    target_size = (150,150)\n",
        ")\n",
        "\n",
        "VALIDATION_DIR = \"/tmp/rockpaperscissors/testing\"\n",
        "validation_datagen = ImageDataGenerator(rescale = 1./255)\n",
        "validation_generator = validation_datagen.flow_from_directory(\n",
        "    VALIDATION_DIR,\n",
        "    batch_size=128,\n",
        "    class_mode='categorical',\n",
        "    target_size=(150, 150)\n",
        ")"
      ],
      "execution_count": null,
      "outputs": [
        {
          "output_type": "stream",
          "name": "stdout",
          "text": [
            "Found 1312 images belonging to 3 classes.\n",
            "Found 876 images belonging to 3 classes.\n",
            "time: 243 ms (started: 2022-09-02 11:45:04 +00:00)\n"
          ]
        }
      ]
    },
    {
      "cell_type": "markdown",
      "metadata": {
        "id": "iCKPhe-fDgZo"
      },
      "source": [
        "# Use Callback to Control the Epoch"
      ]
    },
    {
      "cell_type": "code",
      "source": [
        "# Penggunaan Callback mencegah overfitting dan menghentikan training setelah akurasi terpenuhi\n",
        "class myCallback(tf.keras.callbacks.Callback):\n",
        "  def on_epoch_end(self, epoch, logs={}):\n",
        "    if(logs.get('accuracy') > 0.97):\n",
        "      print(\"\\nAkurasi di atas 97%, hentikan training!\")\n",
        "      self.model.stop_training = True\n",
        "\n",
        "callbacks = myCallback()"
      ],
      "metadata": {
        "colab": {
          "base_uri": "https://localhost:8080/"
        },
        "id": "iM1fKZ0S8fff",
        "outputId": "daceb5b0-984b-4551-a406-dfc137dab967"
      },
      "execution_count": null,
      "outputs": [
        {
          "output_type": "stream",
          "name": "stdout",
          "text": [
            "time: 2.1 ms (started: 2022-09-02 11:45:05 +00:00)\n"
          ]
        }
      ]
    },
    {
      "cell_type": "markdown",
      "metadata": {
        "id": "FjDByj2GANUW"
      },
      "source": [
        "# Make Some Function to Plot the Modelling History"
      ]
    },
    {
      "cell_type": "code",
      "metadata": {
        "id": "qDcXxNqQcJFi",
        "colab": {
          "base_uri": "https://localhost:8080/"
        },
        "outputId": "a8ab27d2-bc2c-44df-da99-0287a9f94022"
      },
      "source": [
        "plt.style.use('seaborn-whitegrid')\n",
        "\n",
        "def plot_acc(history):\n",
        "  acc = history.history['accuracy']\n",
        "  val_acc = history.history['val_accuracy']\n",
        "  epochs = range(len(acc))\n",
        "  plt.subplot(1, 2, 1)\n",
        "  acc_plot, = plt.plot(epochs, acc, 'r')\n",
        "  val_acc_plot, = plt.plot(epochs, val_acc, 'b')\n",
        "  plt.title('Training and Validation Accuracy')\n",
        "  plt.legend([acc_plot, val_acc_plot], ['Training Accuracy', 'Validation Accuracy'])\n",
        "\n",
        "\n",
        "def plot_loss(history):\n",
        "  loss = history.history['loss']\n",
        "  val_loss = history.history['val_loss']\n",
        "  epochs = range(len(loss))\n",
        "  plt.subplot(1, 2, 2)\n",
        "  loss_plot, = plt.plot(epochs, loss, 'r')\n",
        "  val_loss_plot, = plt.plot(epochs, val_loss, 'b')\n",
        "  plt.title('Training and Validation Loss')\n",
        "  plt.legend([loss_plot, val_loss_plot], ['Training Loss', 'Validation Loss'])\n",
        "\n",
        "def plot_history(history):\n",
        "  plt.figure(figsize=(15,5))\n",
        "  plot_acc(history)\n",
        "  plot_loss(history)"
      ],
      "execution_count": null,
      "outputs": [
        {
          "output_type": "stream",
          "name": "stdout",
          "text": [
            "time: 18 ms (started: 2022-09-02 11:45:05 +00:00)\n"
          ]
        }
      ]
    },
    {
      "cell_type": "markdown",
      "metadata": {
        "id": "pMSrfF8zBQe5"
      },
      "source": [
        "# Construct Basic Sequential Model Using CNN"
      ]
    },
    {
      "cell_type": "code",
      "metadata": {
        "colab": {
          "base_uri": "https://localhost:8080/"
        },
        "id": "r5i0WNgLcSUU",
        "outputId": "a47d85ff-dfd8-4f06-dc04-1d6c80f9e0de"
      },
      "source": [
        "tf.keras.backend.clear_session()\n",
        "\n",
        "model_simple = tf.keras.models.Sequential([\n",
        "    tf.keras.layers.Conv2D(16, (3, 3), activation='relu', input_shape=(150, 150, 3)),\n",
        "    tf.keras.layers.MaxPooling2D(2, 2),\n",
        "    tf.keras.layers.Conv2D(64, (3,3), activation='relu'),\n",
        "    tf.keras.layers.MaxPooling2D(2,2),\n",
        "    tf.keras.layers.Conv2D(128, (3,3), activation='relu'),\n",
        "    tf.keras.layers.MaxPooling2D(2,2),\n",
        "    tf.keras.layers.Conv2D(128, (3,3), activation='relu'),\n",
        "    tf.keras.layers.MaxPooling2D(2,2),\n",
        "    tf.keras.layers.Flatten(),\n",
        "    tf.keras.layers.Dense(512, activation='relu'),\n",
        "    tf.keras.layers.Dense(3, activation='softmax')\n",
        "])\n",
        "\n",
        "model_simple.summary()"
      ],
      "execution_count": null,
      "outputs": [
        {
          "output_type": "stream",
          "name": "stdout",
          "text": [
            "Model: \"sequential\"\n",
            "_________________________________________________________________\n",
            " Layer (type)                Output Shape              Param #   \n",
            "=================================================================\n",
            " conv2d (Conv2D)             (None, 148, 148, 16)      448       \n",
            "                                                                 \n",
            " max_pooling2d (MaxPooling2D  (None, 74, 74, 16)       0         \n",
            " )                                                               \n",
            "                                                                 \n",
            " conv2d_1 (Conv2D)           (None, 72, 72, 64)        9280      \n",
            "                                                                 \n",
            " max_pooling2d_1 (MaxPooling  (None, 36, 36, 64)       0         \n",
            " 2D)                                                             \n",
            "                                                                 \n",
            " conv2d_2 (Conv2D)           (None, 34, 34, 128)       73856     \n",
            "                                                                 \n",
            " max_pooling2d_2 (MaxPooling  (None, 17, 17, 128)      0         \n",
            " 2D)                                                             \n",
            "                                                                 \n",
            " conv2d_3 (Conv2D)           (None, 15, 15, 128)       147584    \n",
            "                                                                 \n",
            " max_pooling2d_3 (MaxPooling  (None, 7, 7, 128)        0         \n",
            " 2D)                                                             \n",
            "                                                                 \n",
            " flatten (Flatten)           (None, 6272)              0         \n",
            "                                                                 \n",
            " dense (Dense)               (None, 512)               3211776   \n",
            "                                                                 \n",
            " dense_1 (Dense)             (None, 3)                 1539      \n",
            "                                                                 \n",
            "=================================================================\n",
            "Total params: 3,444,483\n",
            "Trainable params: 3,444,483\n",
            "Non-trainable params: 0\n",
            "_________________________________________________________________\n",
            "time: 825 ms (started: 2022-09-02 11:45:05 +00:00)\n"
          ]
        }
      ]
    },
    {
      "cell_type": "markdown",
      "metadata": {
        "id": "hnGFVgH0MdcZ"
      },
      "source": [
        "# Running the Basic Model"
      ]
    },
    {
      "cell_type": "code",
      "metadata": {
        "id": "hLQe9ePwMcyP",
        "colab": {
          "base_uri": "https://localhost:8080/"
        },
        "outputId": "ac7c85ae-6a7c-4dc2-d9f1-0ef3827b6901"
      },
      "source": [
        "model_simple.compile(\n",
        "    optimizer='adam', \n",
        "    loss='categorical_crossentropy', \n",
        "    metrics=['accuracy']\n",
        ")\n",
        "\n",
        "history_simple = model_simple.fit(\n",
        "    train_generator,\n",
        "    epochs=100,\n",
        "    callbacks = [callbacks],\n",
        "    verbose=1,\n",
        "    validation_data=validation_generator\n",
        ")"
      ],
      "execution_count": null,
      "outputs": [
        {
          "output_type": "stream",
          "name": "stdout",
          "text": [
            "Epoch 1/100\n",
            "11/11 [==============================] - 75s 7s/step - loss: 1.1349 - accuracy: 0.3819 - val_loss: 1.0464 - val_accuracy: 0.4612\n",
            "Epoch 2/100\n",
            "11/11 [==============================] - 64s 6s/step - loss: 1.0048 - accuracy: 0.5252 - val_loss: 0.7671 - val_accuracy: 0.7180\n",
            "Epoch 3/100\n",
            "11/11 [==============================] - 64s 6s/step - loss: 0.7601 - accuracy: 0.6669 - val_loss: 0.3721 - val_accuracy: 0.9053\n",
            "Epoch 4/100\n",
            "11/11 [==============================] - 62s 6s/step - loss: 0.6195 - accuracy: 0.7492 - val_loss: 0.4073 - val_accuracy: 0.8630\n",
            "Epoch 5/100\n",
            "11/11 [==============================] - 73s 7s/step - loss: 0.5020 - accuracy: 0.8110 - val_loss: 0.3060 - val_accuracy: 0.8995\n",
            "Epoch 6/100\n",
            "11/11 [==============================] - 64s 6s/step - loss: 0.4173 - accuracy: 0.8369 - val_loss: 0.2965 - val_accuracy: 0.9075\n",
            "Epoch 7/100\n",
            "11/11 [==============================] - 62s 6s/step - loss: 0.3880 - accuracy: 0.8453 - val_loss: 0.3679 - val_accuracy: 0.8801\n",
            "Epoch 8/100\n",
            "11/11 [==============================] - 64s 6s/step - loss: 0.3777 - accuracy: 0.8552 - val_loss: 0.1945 - val_accuracy: 0.9361\n",
            "Epoch 9/100\n",
            "11/11 [==============================] - 62s 6s/step - loss: 0.3632 - accuracy: 0.8651 - val_loss: 0.2013 - val_accuracy: 0.9361\n",
            "Epoch 10/100\n",
            "11/11 [==============================] - 64s 6s/step - loss: 0.3169 - accuracy: 0.8872 - val_loss: 0.1735 - val_accuracy: 0.9543\n",
            "Epoch 11/100\n",
            "11/11 [==============================] - 63s 6s/step - loss: 0.2785 - accuracy: 0.8887 - val_loss: 0.1592 - val_accuracy: 0.9509\n",
            "Epoch 12/100\n",
            "11/11 [==============================] - 61s 6s/step - loss: 0.2897 - accuracy: 0.8963 - val_loss: 0.1096 - val_accuracy: 0.9680\n",
            "Epoch 13/100\n",
            "11/11 [==============================] - 64s 6s/step - loss: 0.2437 - accuracy: 0.9215 - val_loss: 0.1104 - val_accuracy: 0.9703\n",
            "Epoch 14/100\n",
            "11/11 [==============================] - 63s 6s/step - loss: 0.2305 - accuracy: 0.9223 - val_loss: 0.1758 - val_accuracy: 0.9452\n",
            "Epoch 15/100\n",
            "11/11 [==============================] - 65s 6s/step - loss: 0.2229 - accuracy: 0.9215 - val_loss: 0.1018 - val_accuracy: 0.9658\n",
            "Epoch 16/100\n",
            "11/11 [==============================] - 65s 6s/step - loss: 0.1820 - accuracy: 0.9405 - val_loss: 0.0929 - val_accuracy: 0.9760\n",
            "Epoch 17/100\n",
            "11/11 [==============================] - 63s 6s/step - loss: 0.1626 - accuracy: 0.9512 - val_loss: 0.0711 - val_accuracy: 0.9783\n",
            "Epoch 18/100\n",
            "11/11 [==============================] - 64s 6s/step - loss: 0.1457 - accuracy: 0.9558 - val_loss: 0.1150 - val_accuracy: 0.9566\n",
            "Epoch 19/100\n",
            "11/11 [==============================] - 63s 6s/step - loss: 0.1743 - accuracy: 0.9405 - val_loss: 0.0790 - val_accuracy: 0.9783\n",
            "Epoch 20/100\n",
            "11/11 [==============================] - 64s 6s/step - loss: 0.1443 - accuracy: 0.9505 - val_loss: 0.0657 - val_accuracy: 0.9806\n",
            "Epoch 21/100\n",
            "11/11 [==============================] - 62s 6s/step - loss: 0.1245 - accuracy: 0.9573 - val_loss: 0.0488 - val_accuracy: 0.9874\n",
            "Epoch 22/100\n",
            "11/11 [==============================] - ETA: 0s - loss: 0.1005 - accuracy: 0.9726\n",
            "Akurasi di atas 97%, hentikan training!\n",
            "11/11 [==============================] - 62s 6s/step - loss: 0.1005 - accuracy: 0.9726 - val_loss: 0.0402 - val_accuracy: 0.9909\n",
            "time: 26min 44s (started: 2022-09-02 11:45:06 +00:00)\n"
          ]
        }
      ]
    },
    {
      "cell_type": "markdown",
      "metadata": {
        "id": "AA5yOHjhMk_K"
      },
      "source": [
        "# Visualize the History of Basic Model"
      ]
    },
    {
      "cell_type": "code",
      "metadata": {
        "id": "vYwur4xIMnrJ",
        "colab": {
          "base_uri": "https://localhost:8080/",
          "height": 348
        },
        "outputId": "81833dbc-3d1a-4891-9cab-3b7956605533"
      },
      "source": [
        "plot_history(history_simple)"
      ],
      "execution_count": null,
      "outputs": [
        {
          "output_type": "display_data",
          "data": {
            "text/plain": [
              "<Figure size 1080x360 with 2 Axes>"
            ],
            "image/png": "[encoded data removed]"
          },
          "metadata": {}
        },
        {
          "output_type": "stream",
          "name": "stdout",
          "text": [
            "time: 20.6 s (started: 2022-09-02 12:11:50 +00:00)\n"
          ]
        }
      ]
    },
    {
      "cell_type": "markdown",
      "metadata": {
        "id": "m_VJrf_GIBe9"
      },
      "source": [
        "# Evaluate the Basic Model"
      ]
    },
    {
      "cell_type": "code",
      "metadata": {
        "colab": {
          "base_uri": "https://localhost:8080/"
        },
        "id": "T_Suc7OvIDKi",
        "outputId": "592a2e5c-8e63-463f-b2c1-b467840d9268"
      },
      "source": [
        "validation_generator = validation_datagen.flow_from_directory(\n",
        "    VALIDATION_DIR,\n",
        "    batch_size=159,\n",
        "    class_mode='categorical',\n",
        "    target_size=(150, 150),\n",
        "    shuffle = False\n",
        ")\n",
        "\n",
        "filenames = validation_generator.filenames\n",
        "nb_samples = len(filenames)\n",
        "\n",
        "Y_pred = model_simple.predict_generator(validation_generator, steps = nb_samples)\n",
        "y_pred = np.argmax(Y_pred, axis=1)\n",
        "\n",
        "print('Confusion Matrix')\n",
        "print(confusion_matrix(validation_generator.classes, y_pred))\n",
        "\n",
        "print('Classification Report')\n",
        "target_names = ['Rock', 'Paper', 'Scissors']\n",
        "print(classification_report(validation_generator.classes, y_pred, target_names=target_names))"
      ],
      "execution_count": null,
      "outputs": [
        {
          "output_type": "stream",
          "name": "stdout",
          "text": [
            "Found 876 images belonging to 3 classes.\n"
          ]
        },
        {
          "output_type": "stream",
          "name": "stderr",
          "text": [
            "WARNING:tensorflow:Your input ran out of data; interrupting training. Make sure that your dataset or generator can generate at least `steps_per_epoch * epochs` batches (in this case, 876 batches). You may need to use the repeat() function when building your dataset.\n"
          ]
        },
        {
          "output_type": "stream",
          "name": "stdout",
          "text": [
            "Confusion Matrix\n",
            "[[280   3   2]\n",
            " [  2 289   0]\n",
            " [  1   0 299]]\n",
            "Classification Report\n",
            "              precision    recall  f1-score   support\n",
            "\n",
            "        Rock       0.99      0.98      0.99       285\n",
            "       Paper       0.99      0.99      0.99       291\n",
            "    Scissors       0.99      1.00      1.00       300\n",
            "\n",
            "    accuracy                           0.99       876\n",
            "   macro avg       0.99      0.99      0.99       876\n",
            "weighted avg       0.99      0.99      0.99       876\n",
            "\n",
            "time: 10.9 s (started: 2022-09-02 12:12:11 +00:00)\n"
          ]
        }
      ]
    },
    {
      "cell_type": "markdown",
      "metadata": {
        "id": "5ZiYH-SVM82O"
      },
      "source": [
        "# Save the Basic Model for Deployment"
      ]
    },
    {
      "cell_type": "code",
      "metadata": {
        "colab": {
          "base_uri": "https://localhost:8080/"
        },
        "id": "hMpGwhiBM82Y",
        "outputId": "726fc5a2-609b-4dc2-e041-c032a8752633"
      },
      "source": [
        "model_simple.save_weights('model_simple_weights.h5')\n",
        "model_simple.save('model_simple.h5')"
      ],
      "execution_count": null,
      "outputs": [
        {
          "output_type": "stream",
          "name": "stdout",
          "text": [
            "time: 159 ms (started: 2022-09-02 12:12:22 +00:00)\n"
          ]
        }
      ]
    },
    {
      "cell_type": "markdown",
      "metadata": {
        "id": "IQvdUSNMCell"
      },
      "source": [
        "# Improve the Model Using Transfer Learning (InceptionV3)"
      ]
    },
    {
      "cell_type": "code",
      "metadata": {
        "colab": {
          "base_uri": "https://localhost:8080/"
        },
        "id": "f1DLNbrwfGLw",
        "outputId": "a21c44ef-ff38-40e4-9284-d6193004b385"
      },
      "source": [
        "tf.keras.backend.clear_session()\n",
        "\n",
        "model_inception = tf.keras.models.Sequential([\n",
        "    InceptionV3(weights = \"imagenet\", include_top = False, input_shape = (150, 150, 3)),\n",
        "    tf.keras.layers.Flatten(),\n",
        "    tf.keras.layers.Dense(512, activation='relu'),\n",
        "    tf.keras.layers.Dense(3, activation='softmax')\n",
        "])\n",
        "\n",
        "model_inception.layers[0].trainable = False\n",
        "\n",
        "model_inception.summary()"
      ],
      "execution_count": null,
      "outputs": [
        {
          "output_type": "stream",
          "name": "stdout",
          "text": [
            "Downloading data from https://storage.googleapis.com/tensorflow/keras-applications/inception_v3/inception_v3_weights_tf_dim_ordering_tf_kernels_notop.h5\n",
            "87916544/87910968 [==============================] - 1s 0us/step\n",
            "87924736/87910968 [==============================] - 1s 0us/step\n",
            "Model: \"sequential\"\n",
            "_________________________________________________________________\n",
            " Layer (type)                Output Shape              Param #   \n",
            "=================================================================\n",
            " inception_v3 (Functional)   (None, 3, 3, 2048)        21802784  \n",
            "                                                                 \n",
            " flatten (Flatten)           (None, 18432)             0         \n",
            "                                                                 \n",
            " dense (Dense)               (None, 512)               9437696   \n",
            "                                                                 \n",
            " dense_1 (Dense)             (None, 3)                 1539      \n",
            "                                                                 \n",
            "=================================================================\n",
            "Total params: 31,242,019\n",
            "Trainable params: 9,439,235\n",
            "Non-trainable params: 21,802,784\n",
            "_________________________________________________________________\n",
            "time: 4.48 s (started: 2022-09-02 12:12:22 +00:00)\n"
          ]
        }
      ]
    },
    {
      "cell_type": "markdown",
      "metadata": {
        "id": "2R-OYiadEryV"
      },
      "source": [
        "# Running the Transfer Learning Model Using InceptionV3"
      ]
    },
    {
      "cell_type": "code",
      "metadata": {
        "colab": {
          "base_uri": "https://localhost:8080/"
        },
        "id": "FtkZGqwsfcbZ",
        "outputId": "3cad164e-06da-48b9-f08f-4969b9d49000"
      },
      "source": [
        "model_inception.compile(\n",
        "    optimizer = 'adam', \n",
        "    loss = 'categorical_crossentropy', \n",
        "    metrics = ['accuracy']\n",
        ")\n",
        "\n",
        "history_inception = model_inception.fit(\n",
        "    train_generator,\n",
        "    epochs=100,\n",
        "    callbacks = [callbacks],\n",
        "    verbose=1,\n",
        "    validation_data=validation_generator\n",
        ")"
      ],
      "execution_count": null,
      "outputs": [
        {
          "output_type": "stream",
          "name": "stdout",
          "text": [
            "Epoch 1/100\n",
            "11/11 [==============================] - 103s 9s/step - loss: 22.5163 - accuracy: 0.5099 - val_loss: 0.8939 - val_accuracy: 0.8961\n",
            "Epoch 2/100\n",
            "11/11 [==============================] - 95s 9s/step - loss: 1.6430 - accuracy: 0.8148 - val_loss: 0.1977 - val_accuracy: 0.9612\n",
            "Epoch 3/100\n",
            "11/11 [==============================] - 101s 9s/step - loss: 0.5926 - accuracy: 0.9200 - val_loss: 0.2418 - val_accuracy: 0.9498\n",
            "Epoch 4/100\n",
            "11/11 [==============================] - 97s 9s/step - loss: 0.3976 - accuracy: 0.9444 - val_loss: 0.0937 - val_accuracy: 0.9737\n",
            "Epoch 5/100\n",
            "11/11 [==============================] - 101s 9s/step - loss: 0.1690 - accuracy: 0.9611 - val_loss: 0.0964 - val_accuracy: 0.9703\n",
            "Epoch 6/100\n",
            "11/11 [==============================] - 100s 9s/step - loss: 0.1450 - accuracy: 0.9611 - val_loss: 0.0677 - val_accuracy: 0.9737\n",
            "Epoch 7/100\n",
            "11/11 [==============================] - ETA: 0s - loss: 0.0991 - accuracy: 0.9748\n",
            "Akurasi di atas 97%, hentikan training!\n",
            "11/11 [==============================] - 94s 9s/step - loss: 0.0991 - accuracy: 0.9748 - val_loss: 0.0649 - val_accuracy: 0.9795\n",
            "time: 14min 24s (started: 2022-09-02 12:12:26 +00:00)\n"
          ]
        }
      ]
    },
    {
      "cell_type": "markdown",
      "metadata": {
        "id": "VeQLTCnsQPMs"
      },
      "source": [
        "# Visualize the Transfer Learning Model"
      ]
    },
    {
      "cell_type": "code",
      "metadata": {
        "id": "0irvpVWDQRmF",
        "colab": {
          "base_uri": "https://localhost:8080/",
          "height": 348
        },
        "outputId": "fa423a1e-84f7-4e80-f4f7-56509f83a209"
      },
      "source": [
        "plot_history(history_inception)"
      ],
      "execution_count": null,
      "outputs": [
        {
          "output_type": "display_data",
          "data": {
            "text/plain": [
              "<Figure size 1080x360 with 2 Axes>"
            ],
            "image/png": "[encoded data removed]"
          },
          "metadata": {}
        },
        {
          "output_type": "stream",
          "name": "stdout",
          "text": [
            "time: 389 ms (started: 2022-09-02 12:26:51 +00:00)\n"
          ]
        }
      ]
    },
    {
      "cell_type": "markdown",
      "metadata": {
        "id": "9O_Y9VFZF7Hc"
      },
      "source": [
        "# Evaluate the Transfer Learning Model"
      ]
    },
    {
      "cell_type": "code",
      "metadata": {
        "colab": {
          "base_uri": "https://localhost:8080/"
        },
        "id": "sngW3Ppefe5r",
        "outputId": "619e12fc-b136-466b-92fc-5c08d22e2778"
      },
      "source": [
        "validation_generator = validation_datagen.flow_from_directory(\n",
        "    VALIDATION_DIR,\n",
        "    batch_size=159,\n",
        "    class_mode='categorical',\n",
        "    target_size=(150, 150),\n",
        "    shuffle = False\n",
        ")\n",
        "\n",
        "filenames = validation_generator.filenames\n",
        "nb_samples = len(filenames)\n",
        "\n",
        "Y_pred = model_inception.predict_generator(validation_generator, steps = nb_samples)\n",
        "y_pred = np.argmax(Y_pred, axis=1)\n",
        "\n",
        "print('Confusion Matrix')\n",
        "print(confusion_matrix(validation_generator.classes, y_pred))\n",
        "\n",
        "print('Classification Report')\n",
        "target_names = ['Rock', 'Paper', 'Scissors']\n",
        "print(classification_report(validation_generator.classes, y_pred, target_names=target_names))"
      ],
      "execution_count": null,
      "outputs": [
        {
          "output_type": "stream",
          "name": "stdout",
          "text": [
            "Found 876 images belonging to 3 classes.\n"
          ]
        },
        {
          "output_type": "stream",
          "name": "stderr",
          "text": [
            "WARNING:tensorflow:Your input ran out of data; interrupting training. Make sure that your dataset or generator can generate at least `steps_per_epoch * epochs` batches (in this case, 876 batches). You may need to use the repeat() function when building your dataset.\n"
          ]
        },
        {
          "output_type": "stream",
          "name": "stdout",
          "text": [
            "Confusion Matrix\n",
            "[[270   6   9]\n",
            " [  0 291   0]\n",
            " [  1   2 297]]\n",
            "Classification Report\n",
            "              precision    recall  f1-score   support\n",
            "\n",
            "        Rock       1.00      0.95      0.97       285\n",
            "       Paper       0.97      1.00      0.99       291\n",
            "    Scissors       0.97      0.99      0.98       300\n",
            "\n",
            "    accuracy                           0.98       876\n",
            "   macro avg       0.98      0.98      0.98       876\n",
            "weighted avg       0.98      0.98      0.98       876\n",
            "\n",
            "time: 39.3 s (started: 2022-09-02 12:26:51 +00:00)\n"
          ]
        }
      ]
    },
    {
      "cell_type": "markdown",
      "metadata": {
        "id": "9CfUjlmGF-qP"
      },
      "source": [
        "# Save the Transfer Learning Model for Deployment"
      ]
    },
    {
      "cell_type": "code",
      "metadata": {
        "id": "6pVwbddWWwNC",
        "colab": {
          "base_uri": "https://localhost:8080/"
        },
        "outputId": "0abc12c4-b02f-4da1-891b-1c0266d3a884"
      },
      "source": [
        "model_inception.save_weights('model_inception_weights.h5')\n",
        "model_inception.save('model_inception.h5')"
      ],
      "execution_count": null,
      "outputs": [
        {
          "output_type": "stream",
          "name": "stdout",
          "text": [
            "time: 1.57 s (started: 2022-09-02 12:27:30 +00:00)\n"
          ]
        }
      ]
    },
    {
      "cell_type": "markdown",
      "metadata": {
        "id": "7MO0ogEhGBkL"
      },
      "source": [
        "# Make Function for Predict Other Images"
      ]
    },
    {
      "cell_type": "code",
      "metadata": {
        "id": "zLUY6pfCFUrO",
        "colab": {
          "base_uri": "https://localhost:8080/"
        },
        "outputId": "24502dc1-c3a9-4efb-cce0-6b22aed47774"
      },
      "source": [
        "def predict_image(image_upload, model = model_inception):\n",
        "  im = image_upload\n",
        "  im_array = np.asarray(im)\n",
        "  im_array = im_array*(1/225)\n",
        "  im_input = tf.reshape(im_array, shape = [1, 150, 150, 3])\n",
        "\n",
        "  predict_array = model.predict(im_input)[0]\n",
        "\n",
        "  import pandas as pd\n",
        "  df = pd.DataFrame(predict_array)\n",
        "  df = df.rename({0:'Probability'}, axis = 'columns')\n",
        "  prod = ['Paper', 'Rock', 'Scissors']\n",
        "  df['Product'] = prod\n",
        "  df = df[['Product', 'Probability']]\n",
        "\n",
        "  predict_label = np.argmax(model.predict(im_input))\n",
        "\n",
        "  if predict_label == 0:\n",
        "      predict_product = 'Paper'\n",
        "  elif predict_label == 1:\n",
        "      predict_product = 'Rock'\n",
        "  else:\n",
        "      predict_product = 'Scissor'\n",
        "\n",
        "  return predict_product, df"
      ],
      "execution_count": null,
      "outputs": [
        {
          "output_type": "stream",
          "name": "stdout",
          "text": [
            "time: 7.48 ms (started: 2022-09-02 12:27:32 +00:00)\n"
          ]
        }
      ]
    },
    {
      "cell_type": "markdown",
      "metadata": {
        "id": "lCq-6HINPKor"
      },
      "source": [
        "# Predict Image"
      ]
    },
    {
      "cell_type": "code",
      "metadata": {
        "colab": {
          "resources": {
            "http://localhost:8080/nbextensions/google.colab/files.js": {
              "data": "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",
              "ok": true,
              "headers": [
                [
                  "content-type",
                  "application/javascript"
                ]
              ],
              "status": 200,
              "status_text": ""
            }
          },
          "base_uri": "https://localhost:8080/",
          "height": 547
        },
        "id": "mbCbv83tFaIa",
        "outputId": "8141aabf-548e-47b6-dcbf-18f1f68df2d7"
      },
      "source": [
        "uploaded = files.upload()\n",
        "\n",
        "for fn in uploaded.keys():\n",
        "  path = fn\n",
        "  img = image.load_img(path, target_size=(150,150))\n",
        "  imgplot = plt.imshow(img)\n",
        "  x = image.img_to_array(img)\n",
        "  x = np.expand_dims(x, axis=0)\n",
        "  img = np.vstack([x])\n",
        "\n",
        "label, df = predict_image(img)\n",
        "\n",
        "print('\\n')\n",
        "plt.show()\n",
        "print(\"\\nThe image is detected as \" + label)\n",
        "print('\\n')\n",
        "print(df)\n",
        "print('\\n')"
      ],
      "execution_count": null,
      "outputs": [
        {
          "output_type": "display_data",
          "data": {
            "text/plain": [
              "<IPython.core.display.HTML object>"
            ],
            "text/html": [
              "\n",
              "     <input type=\"file\" id=\"files-a3334dd4-10ac-4d7a-b25a-c8af291e950f\" name=\"files[]\" multiple disabled\n",
              "        style=\"border:none\" />\n",
              "     <output id=\"result-a3334dd4-10ac-4d7a-b25a-c8af291e950f\">\n",
              "      Upload widget is only available when the cell has been executed in the\n",
              "      current browser session. Please rerun this cell to enable.\n",
              "      </output>\n",
              "      <script src=\"/nbextensions/google.colab/files.js\"></script> "
            ]
          },
          "metadata": {}
        },
        {
          "output_type": "stream",
          "name": "stdout",
          "text": [
            "Saving Rock-paper-scissors_(rock).png to Rock-paper-scissors_(rock).png\n",
            "\n",
            "\n"
          ]
        },
        {
          "output_type": "display_data",
          "data": {
            "text/plain": [
              "<Figure size 432x288 with 1 Axes>"
            ],
            "image/png": "[encoded data removed]"
          },
          "metadata": {}
        },
        {
          "output_type": "stream",
          "name": "stdout",
          "text": [
            "\n",
            "The image is detected as Rock\n",
            "\n",
            "\n",
            "    Product  Probability\n",
            "0     Paper     0.002871\n",
            "1      Rock     0.995994\n",
            "2  Scissors     0.001135\n",
            "\n",
            "\n",
            "time: 4min 48s (started: 2022-09-02 12:27:32 +00:00)\n"
          ]
        }
      ]
    }
  ]
}